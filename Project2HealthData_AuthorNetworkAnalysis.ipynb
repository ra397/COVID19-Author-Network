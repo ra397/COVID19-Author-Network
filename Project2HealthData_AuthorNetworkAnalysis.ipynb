{
  "nbformat": 4,
  "nbformat_minor": 0,
  "metadata": {
    "colab": {
      "provenance": [],
      "authorship_tag": "ABX9TyMiQD7ePF7lrFy+DKIj0yEk",
      "include_colab_link": true
    },
    "kernelspec": {
      "name": "python3",
      "display_name": "Python 3"
    },
    "language_info": {
      "name": "python"
    }
  },
  "cells": [
    {
      "cell_type": "markdown",
      "metadata": {
        "id": "view-in-github",
        "colab_type": "text"
      },
      "source": [
        "<a href=\"https://colab.research.google.com/github/ra397/COVID19-Author-Network/blob/main/Project2HealthData_AuthorNetworkAnalysis.ipynb\" target=\"_parent\"><img src=\"https://colab.research.google.com/assets/colab-badge.svg\" alt=\"Open In Colab\"/></a>"
      ]
    },
    {
      "cell_type": "code",
      "execution_count": 19,
      "metadata": {
        "id": "-2qbyjCKsh9w"
      },
      "outputs": [],
      "source": [
        "import pandas as pd\n",
        "\n",
        "# Load dataset\n",
        "df = pd.read_csv('metadata_April10_2020.csv')"
      ]
    },
    {
      "cell_type": "code",
      "source": [
        "# Function to parse authors string into a list of individual authors\n",
        "def parse_authors(authors_str):\n",
        "    if pd.isna(authors_str):\n",
        "      return []\n",
        "    authors_list = authors_str.split(\";\")\n",
        "    authors_list = [author.strip() for author in authors_list if author.strip() != \"\"]\n",
        "    return authors_list\n",
        "\n",
        "# Test function\n",
        "print(parse_authors('Myatt, Theodore A; Johnston, Sebastian L; Rudnick, Stephen; Milton, Donald K'))"
      ],
      "metadata": {
        "colab": {
          "base_uri": "https://localhost:8080/"
        },
        "id": "iWWNaG5yuLQi",
        "outputId": "9db71eb6-1061-4991-efd2-aa461147fa96"
      },
      "execution_count": 30,
      "outputs": [
        {
          "output_type": "stream",
          "name": "stdout",
          "text": [
            "['Myatt, Theodore A', 'Johnston, Sebastian L', 'Rudnick, Stephen', 'Milton, Donald K']\n"
          ]
        }
      ]
    },
    {
      "cell_type": "code",
      "source": [
        "# Prepare data\n",
        "# Apply the parsing function to the authors column\n",
        "df['parsed_authors'] = df['authors'].apply(parse_authors)\n",
        "\n",
        "# Create a list of lists of co-authors for each publication\n",
        "co_author_lists = df['parsed_authors'].tolist()"
      ],
      "metadata": {
        "id": "cDtG1Nl4unmF"
      },
      "execution_count": 31,
      "outputs": []
    },
    {
      "cell_type": "code",
      "source": [
        "import networkx as nx\n",
        "\n",
        "def create_weighted_network(list_of_lists):\n",
        "    # Initialize an empty graph\n",
        "    G = nx.Graph()\n",
        "\n",
        "    # Add all unique names as nodes\n",
        "    unique_names = set(name for sublist in list_of_lists for name in sublist)\n",
        "    for name in unique_names:\n",
        "        G.add_node(name)\n",
        "\n",
        "    # Create a dictionary to keep track of edge weights\n",
        "    edges_count = {}\n",
        "\n",
        "    # Iterate through each list to count occurrences of each pair\n",
        "    for lst in list_of_lists:\n",
        "        for i in range(len(lst)):\n",
        "            for j in range(i+1, len(lst)):\n",
        "                edge = tuple(sorted([lst[i], lst[j]]))  # Sort to ensure consistency\n",
        "                if edge in edges_count:\n",
        "                    edges_count[edge] += 1\n",
        "                else:\n",
        "                    edges_count[edge] = 1\n",
        "\n",
        "    # Add edges with weights to the graph\n",
        "    for edge, weight in edges_count.items():\n",
        "        G.add_edge(edge[0], edge[1], weight=weight)\n",
        "\n",
        "    return G\n",
        "\n",
        "Network = create_weighted_network(co_author_lists)"
      ],
      "metadata": {
        "id": "KNP-FC5lIsV4"
      },
      "execution_count": 32,
      "outputs": []
    },
    {
      "cell_type": "code",
      "source": [
        "degrees = Network.degree()\n",
        "sorted_nodes = sorted(degrees, key=lambda x: x[1], reverse=True)\n",
        "top_10_nodes = sorted_nodes[:10]\n",
        "bottom_10_nodes = sorted_nodes[-10::]\n",
        "\n",
        "for node, degree in top_10_nodes:\n",
        "    print(f\"Author: {node} has {degree} edges\")\n",
        "print('\\n\\n')\n",
        "for node, degree in bottom_10_nodes:\n",
        "    print(f\"Author: {node} has {degree} edges\")"
      ],
      "metadata": {
        "colab": {
          "base_uri": "https://localhost:8080/"
        },
        "id": "E8djRYN6JeQ6",
        "outputId": "f9d62284-8e15-47c6-afb6-bd877dff9cca"
      },
      "execution_count": 36,
      "outputs": [
        {
          "output_type": "stream",
          "name": "stdout",
          "text": [
            "Author: Wang, Jing has 4831 edges\n",
            "Author: Zhang, Li has 4763 edges\n",
            "Author: Chwae, Yong-Joon has 4432 edges\n",
            "Author: Mojoli, F. has 3945 edges\n",
            "Author: Torres, A. has 3872 edges\n",
            "Author: Rello, J. has 3831 edges\n",
            "Author: Hajjar, L. A. has 3828 edges\n",
            "Author: Dupont, H. has 3828 edges\n",
            "Author: Rhodes, A. has 3824 edges\n",
            "Author: Pearse, R. M. has 3824 edges\n",
            "\n",
            "\n",
            "\n",
            "Author: Yim, Bennett has 0 edges\n",
            "Author: Tribe, John has 0 edges\n",
            "Author: Christopher JL Murray has 0 edges\n",
            "Author: Song, Yann-Huei has 0 edges\n",
            "Author: Holland, R E has 0 edges\n",
            "Author: Schattner, Ami has 0 edges\n",
            "Author: Vora, Neil has 0 edges\n",
            "Author: Coombes, Rebecca has 0 edges\n",
            "Author: Schærström, A. has 0 edges\n",
            "Author: Jackman, Joany has 0 edges\n"
          ]
        }
      ]
    },
    {
      "cell_type": "code",
      "source": [
        "# Plot degree distribution of the network, this will help me choose the threshold for\n",
        "# the minimum number of edges required for a node to be included in the visualization\n",
        "import matplotlib.pyplot as plt\n",
        "\n",
        "# Calculate the number of nodes that have at least each degree\n",
        "degrees = [deg for node, deg in Network.degree()]\n",
        "degrees.sort(reverse=True)\n",
        "total_nodes = len(Network.nodes())\n",
        "node_count_percent = [(sum(1 for deg in degrees if deg >= d) / total_nodes)\n",
        "* 100 for d in range(max(degrees) + 1)]"
      ],
      "metadata": {
        "id": "CJTUmlrxNUy9"
      },
      "execution_count": 37,
      "outputs": []
    },
    {
      "cell_type": "code",
      "source": [
        "# Plot degree distribution curve\n",
        "plt.plot(range(max(degrees) + 1), node_count_percent, linestyle='-')\n",
        "plt.xlabel('Degree')\n",
        "plt.ylabel('% of Total Nodes')\n",
        "plt.title('Degree Distribution')\n",
        "plt.grid(True)\n",
        "plt.show()"
      ],
      "metadata": {
        "colab": {
          "base_uri": "https://localhost:8080/",
          "height": 472
        },
        "id": "mPUlJmZ-fFi7",
        "outputId": "c818b4d4-9f48-4a4e-d16d-6082b68f890f"
      },
      "execution_count": 38,
      "outputs": [
        {
          "output_type": "display_data",
          "data": {
            "text/plain": [
              "<Figure size 640x480 with 1 Axes>"
            ],
            "image/png": "[encoded data removed]"
          },
          "metadata": {}
        }
      ]
    },
    {
      "cell_type": "markdown",
      "source": [
        "- We have a classic long-tail distribution. A high percentage of nodes have a very low degree, and as the degree increases, the percentage of nodes rapidly decreases."
      ],
      "metadata": {
        "id": "SeqiUKz5mx4h"
      }
    },
    {
      "cell_type": "code",
      "source": [
        "# Calculate the derivative of the degree distribution curve\n",
        "import numpy as np\n",
        "\n",
        "derivative = np.diff(node_count_percent)\n",
        "\n",
        "# Plot the derivative\n",
        "plt.plot(range(1, len(derivative) + 1), derivative, linestyle='-')\n",
        "plt.xlabel('Degree')\n",
        "plt.ylabel('Derivative of % of Total Nodes')\n",
        "plt.title('Derivative of Degree Distribution')\n",
        "plt.grid(True)\n",
        "plt.show()"
      ],
      "metadata": {
        "colab": {
          "base_uri": "https://localhost:8080/",
          "height": 472
        },
        "id": "JbpfB7wUimB7",
        "outputId": "41b27fbb-5cd2-4e22-b58b-e4c4c6577230"
      },
      "execution_count": 39,
      "outputs": [
        {
          "output_type": "display_data",
          "data": {
            "text/plain": [
              "<Figure size 640x480 with 1 Axes>"
            ],
            "image/png": "[encoded data removed]"
          },
          "metadata": {}
        }
      ]
    },
    {
      "cell_type": "markdown",
      "source": [
        " - The derivative graph is showing the difference in percentages between one degree and the next.\n",
        " - A long vertical line means there's a significant drop in the percentage of nodes when moving from degree n to n+1\n",
        " - A short or no vertical line means there's a small or no change in the percentage of nodes between these degrees\n"
      ],
      "metadata": {
        "id": "CzxwvK2LmMt5"
      }
    },
    {
      "cell_type": "code",
      "source": [
        "degrees = dict(Network.degree())\n",
        "\n",
        "# Calculate the frequency of each degree\n",
        "degree_counts = {}\n",
        "for degree in degrees.values():\n",
        "    if degree in degree_counts:\n",
        "        degree_counts[degree] += 1\n",
        "    else:\n",
        "        degree_counts[degree] = 1\n",
        "\n",
        "# Sort the degrees and calculate the differences between consecutive degree frequencies\n",
        "sorted_degrees = sorted(degree_counts.items())\n",
        "differences = [(sorted_degrees[i+1][0], sorted_degrees[i+1][1] - sorted_degrees[i][1])\n",
        "               for i in range(len(sorted_degrees)-1)]\n",
        "\n",
        "# Find the degree with the largest decrease (most negative difference)\n",
        "# Since the user asked for the biggest vertical line, we assume they are looking for the biggest drop\n",
        "biggest_drop_degree = min(differences, key=lambda x: x[1])[0]\n",
        "\n",
        "biggest_drop_degree"
      ],
      "metadata": {
        "colab": {
          "base_uri": "https://localhost:8080/"
        },
        "id": "rXm6KHf5kSoo",
        "outputId": "2b67e59b-f1db-4ca9-9884-80212bbda7a0"
      },
      "execution_count": 40,
      "outputs": [
        {
          "output_type": "execute_result",
          "data": {
            "text/plain": [
              "2461"
            ]
          },
          "metadata": {},
          "execution_count": 40
        }
      ]
    },
    {
      "cell_type": "markdown",
      "source": [
        "- The ```biggest_drop_degree``` is the exact degree value for the biggest vertical line in the \"Derivative of Degree Distribution\".\n",
        "- We will use ```biggest_drop_degree``` as the threshold for the minimum number of edges required for a node to be included in the visualization"
      ],
      "metadata": {
        "id": "2EcKFg8rm-ct"
      }
    },
    {
      "cell_type": "code",
      "source": [
        "# Counts the number of nodes in a graph with a\n",
        "def count_nodes_with_degree_at_least(graph, degree):\n",
        "    count = 0\n",
        "    for node in graph.nodes():\n",
        "        if graph.degree(node) >= degree:\n",
        "            count += 1\n",
        "    return count\n",
        "\n",
        "degree_to_count = count_nodes_with_degree_at_least(Network, biggest_drop_degree-1)\n",
        "print(f'Number of nodes with degree {biggest_drop_degree-1}: {degree_to_count}')\n",
        "\n",
        "threshold = 1855\n",
        "degree_to_count = count_nodes_with_degree_at_least(Network, biggest_drop_degree)\n",
        "print(f'Number of nodes with degree {biggest_drop_degree}: {degree_to_count}')"
      ],
      "metadata": {
        "colab": {
          "base_uri": "https://localhost:8080/"
        },
        "id": "tPd49jqtkr1g",
        "outputId": "2edab445-d360-4ca7-b3b2-0f497d8cba4f"
      },
      "execution_count": 41,
      "outputs": [
        {
          "output_type": "stream",
          "name": "stdout",
          "text": [
            "Number of nodes with degree 2460: 2577\n",
            "Number of nodes with degree 2461: 482\n"
          ]
        }
      ]
    },
    {
      "cell_type": "code",
      "source": [
        "# Filter the network to only include nodes that meet the degree threshold\n",
        "min_degree = biggest_drop_degree\n",
        "nodes_to_remove = [node for node, degree in dict(Network.degree()).items()\n",
        "if degree < min_degree]\n",
        "Network.remove_nodes_from(nodes_to_remove)\n",
        "\n",
        "# Save the filtered graph so I can visualize it with Gephi\n",
        "nx.write_gexf(Network, 'FilteredGraph.gexf')"
      ],
      "metadata": {
        "id": "SdKzhSvwaAiL"
      },
      "execution_count": 42,
      "outputs": []
    }
  ]
}